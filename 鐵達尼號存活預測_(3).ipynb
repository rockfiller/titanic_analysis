{
  "nbformat": 4,
  "nbformat_minor": 0,
  "metadata": {
    "colab": {
      "provenance": [],
      "authorship_tag": "ABX9TyPZGIjgdpVwWp4dpuVkCs7A",
      "include_colab_link": true
    },
    "kernelspec": {
      "name": "python3",
      "display_name": "Python 3"
    },
    "language_info": {
      "name": "python"
    }
  },
  "cells": [
    {
      "cell_type": "markdown",
      "metadata": {
        "id": "view-in-github",
        "colab_type": "text"
      },
      "source": [
        "<a href=\"https://colab.research.google.com/github/rockfiller/titanic_analysis/blob/main/%E9%90%B5%E9%81%94%E5%B0%BC%E8%99%9F%E5%AD%98%E6%B4%BB%E9%A0%90%E6%B8%AC_(3).ipynb\" target=\"_parent\"><img src=\"https://colab.research.google.com/assets/colab-badge.svg\" alt=\"Open In Colab\"/></a>"
      ]
    },
    {
      "cell_type": "code",
      "execution_count": 22,
      "metadata": {
        "colab": {
          "base_uri": "https://localhost:8080/"
        },
        "id": "QZRluhraBKk7",
        "outputId": "210c08e8-fe51-4df4-d909-df93a4faac32"
      },
      "outputs": [
        {
          "output_type": "stream",
          "name": "stdout",
          "text": [
            "scores: [0.79329609 0.80898876 0.79775281 0.7752809  0.83707865]\n",
            "average: 0.8024794425961961\n"
          ]
        }
      ],
      "source": [
        "import numpy as np\n",
        "import pandas as pd\n",
        "\n",
        "def preprocess_dataset(df):\n",
        "    '''\n",
        "    Preprocess the Titanic dataset by handling missing values and removing irrelevant columns.\n",
        "\n",
        "    Parameters:\n",
        "        df (DataFrame): Original dataset.\n",
        "\n",
        "    Returns:\n",
        "        DataFrame: Processed dataset with cleaned and imputed values.\n",
        "    '''\n",
        "    # Remove irrelevant and categorical columns\n",
        "    df = df.drop(columns=['PassengerId', 'Name', 'Ticket', 'Cabin'])\n",
        "\n",
        "    # Fill missing values in the 'Age' column with the mean age of each Pclass group\n",
        "    df['Age'] = df['Age'].fillna(df.groupby('Pclass')['Age'].transform('mean'))\n",
        "    # Fill missing values in the 'Age' column with the mean age\n",
        "    # df['Age'] = df['Age'].fillna(df['Age'].mean())\n",
        "\n",
        "    # Fill missing values in the 'Embarked' column with the most frequent value (mode)\n",
        "    df['Embarked'] = df['Embarked'].fillna(df['Embarked'].mode()[0])\n",
        "\n",
        "    # One-Hot Encoding for the 'Sex' and 'Embarked' columns\n",
        "    df = pd.get_dummies(df, columns=['Sex', 'Embarked'])\n",
        "\n",
        "    # Create Fsize as a new numerical feature\n",
        "    df['Fsize'] = df['SibSp'] + df['Parch'] + 1\n",
        "\n",
        "    # Create Young as a new numerical feature\n",
        "    df['Kid'] = (df['Age'] < 12).astype(int)\n",
        "    return df\n",
        "\n",
        "df = pd.read_csv('https://raw.githubusercontent.com/dsindy/kaggle-titanic/master/data/train.csv')\n",
        "df_train = preprocess_dataset(df)\n",
        "\n",
        "columns_X = df_train.drop(columns=['Survived']).columns\n",
        "columns_y = ['Survived']\n",
        "\n",
        "train_X = df_train[columns_X]\n",
        "train_y = df_train[columns_y]\n",
        "\n",
        "from sklearn.linear_model import LogisticRegression\n",
        "from sklearn.model_selection import cross_val_score\n",
        "\n",
        "log = LogisticRegression(random_state=0, max_iter=3000)\n",
        "scores = cross_val_score(log, train_X, train_y.values.ravel(), cv=5, scoring='accuracy')\n",
        "print(f'scores: {scores}')\n",
        "print(f'average: {np.mean(scores)}')"
      ]
    }
  ]
}